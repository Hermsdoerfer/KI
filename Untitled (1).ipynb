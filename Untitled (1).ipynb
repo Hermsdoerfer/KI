{
  "metadata": {
    "kernelspec": {
      "name": "python",
      "display_name": "Python (Pyodide)",
      "language": "python"
    },
    "language_info": {
      "codemirror_mode": {
        "name": "ipython",
        "version": 3
      },
      "file_extension": ".py",
      "mimetype": "text/x-python",
      "name": "python",
      "nbconvert_exporter": "python",
      "pygments_lexer": "ipython3",
      "version": "3.11.0"
    }
  },
  "nbformat_minor": 4,
  "nbformat": 4,
  "cells": [
    {
      "cell_type": "markdown",
      "source": "# Abschnitt 1 (H1)\n## Abschnitt 1.1 (H2)\n\n**Ungeordnete Liste**\n* Erster Eintrag\n* Zweiter Eintrag\n* Dritter Eintrag\n\n**Geordnete Liste**\n1. Erster Eintrag\n2. Zweiter Eintrag\n3. Dritter Eintrag\n> Blockzitat mit zwei Abschnitten. \n>\n> Lorem ipsum dolor sit amet\n> consectetuer adipiscing elit \n> \n> Donec sit amet nisl  \n> Aliquam semper ipsum sit amet ",
      "metadata": {}
    },
    {
      "cell_type": "code",
      "source": "print(\"hallo\")",
      "metadata": {},
      "outputs": [
        {
          "name": "stdout",
          "output_type": "stream",
          "text": [
            "hallo\n"
          ]
        }
      ],
      "execution_count": 1
    },
    {
      "cell_type": "code",
      "source": "import pandas",
      "metadata": {},
      "outputs": [],
      "execution_count": 2
    },
    {
      "cell_type": "code",
      "source": "",
      "metadata": {},
      "outputs": [],
      "execution_count": null
    },
    {
      "cell_type": "markdown",
      "source": "",
      "metadata": {}
    },
    {
      "cell_type": "markdown",
      "source": "** Die folgende Funktion berechnet die Summe der Eingabeparameter **\n\n    def add(x, y):\n\t    return x + y\n    add(2, 3)",
      "metadata": {}
    },
    {
      "cell_type": "code",
      "source": " ",
      "metadata": {},
      "outputs": [],
      "execution_count": null
    }
  ]
}